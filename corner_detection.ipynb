{
 "cells": [
  {
   "cell_type": "markdown",
   "metadata": {},
   "source": [
    "# Harris Corners"
   ]
  },
  {
   "cell_type": "markdown",
   "metadata": {},
   "source": [
    "Source: https://docs.opencv.org/3.4/d4/d7d/tutorial_harris_detector.html\n",
    "\n",
    "Conclusion: Using the Harris method on a plain binarized image appears to be best for finding the corners, and I don't yet understand these fully.\n"
   ]
  },
  {
   "cell_type": "code",
   "execution_count": 1,
   "metadata": {},
   "outputs": [
    {
     "data": {
      "text/plain": [
       "True"
      ]
     },
     "execution_count": 1,
     "metadata": {},
     "output_type": "execute_result"
    }
   ],
   "source": [
    "import cv2\n",
    "import numpy as np\n",
    "\n",
    "img = cv2.imread(\"deskewed/1.jpg\", 0)\n",
    "thresh = 255\n",
    "\n",
    "# Detector parameters\n",
    "blockSize = 2\n",
    "apertureSize = 3\n",
    "k = 0.04\n",
    "\n",
    "# Detecting corners\n",
    "harris = cv2.cornerHarris(img, blockSize, apertureSize, k)\n",
    "\n",
    "# Normalizing\n",
    "normalized = np.empty(harris.shape, dtype=np.float32)\n",
    "cv2.normalize(harris, normalized, alpha=0, beta=255, norm_type=cv2.NORM_MINMAX)\n",
    "scaled = cv2.convertScaleAbs(normalized)\n",
    "\n",
    "# Drawing a circle around corners\n",
    "for i in range(normalized.shape[0]):\n",
    "    for j in range(normalized.shape[1]):\n",
    "        if int(normalized[i,j]) > thresh:\n",
    "            cv2.circle(scaled, (j,i), 5, (0), 2)\n",
    "\n",
    "cv2.imwrite(\"corners/harris.jpg\", scaled)"
   ]
  },
  {
   "cell_type": "markdown",
   "metadata": {},
   "source": [
    "### Harris Corners"
   ]
  },
  {
   "cell_type": "markdown",
   "metadata": {},
   "source": [
    "...on original\n",
    "![](corners/harris.jpg)"
   ]
  },
  {
   "cell_type": "code",
   "execution_count": 2,
   "metadata": {},
   "outputs": [
    {
     "data": {
      "text/plain": [
       "True"
      ]
     },
     "execution_count": 2,
     "metadata": {},
     "output_type": "execute_result"
    }
   ],
   "source": [
    "# Detecting corners\n",
    "gaussian_blur = cv2.GaussianBlur(img,(5,5),0)\n",
    "_, otsu_after_gaussian = cv2.threshold(gaussian_blur, 0, 255, cv2.THRESH_BINARY+cv2.THRESH_OTSU)\n",
    "harris_otsu_after_gaussian = cv2.cornerHarris(otsu_after_gaussian, blockSize, apertureSize, k)\n",
    "\n",
    "# Normalizing\n",
    "otsu_normalized = np.empty(harris_otsu_after_gaussian.shape, dtype=np.float32)\n",
    "cv2.normalize(harris_otsu_after_gaussian, otsu_normalized, alpha=0, beta=255, norm_type=cv2.NORM_MINMAX)\n",
    "otsu_scaled = cv2.convertScaleAbs(otsu_normalized)\n",
    "\n",
    "# Drawing a circle around corners\n",
    "for i in range(otsu_normalized.shape[0]):\n",
    "    for j in range(otsu_normalized.shape[1]):\n",
    "        if int(otsu_normalized[i,j]) > thresh:\n",
    "            cv2.circle(otsu_scaled, (j,i), 5, (0), 2)\n",
    "            \n",
    "cv2.imwrite(\"corners/harris_otsu_after_gaussian.jpg\", otsu_scaled)"
   ]
  },
  {
   "cell_type": "markdown",
   "metadata": {},
   "source": [
    "...on otsu after gaussian\n",
    "![](corners/harris_otsu_after_gaussian.jpg)"
   ]
  },
  {
   "cell_type": "code",
   "execution_count": 3,
   "metadata": {},
   "outputs": [
    {
     "data": {
      "text/plain": [
       "True"
      ]
     },
     "execution_count": 3,
     "metadata": {},
     "output_type": "execute_result"
    }
   ],
   "source": [
    "# Detecting corners\n",
    "_, binary = cv2.threshold(img, 127, 255, cv2.THRESH_BINARY)\n",
    "harris_after_binary_threshold = cv2.cornerHarris(binary, blockSize, apertureSize, k)\n",
    "\n",
    "# Normalizing\n",
    "binary_normalized = np.empty(harris_after_binary_threshold.shape, dtype=np.float32)\n",
    "cv2.normalize(harris_after_binary_threshold, binary_normalized, alpha=0, beta=255, norm_type=cv2.NORM_MINMAX)\n",
    "binary_scaled = cv2.convertScaleAbs(binary_normalized)\n",
    "\n",
    "# Drawing a circle around corners\n",
    "for i in range(binary_normalized.shape[0]):\n",
    "    for j in range(binary_normalized.shape[1]):\n",
    "        if int(binary_normalized[i,j]) > thresh:\n",
    "            cv2.circle(binary_scaled, (j,i), 5, (0), 2)\n",
    "            \n",
    "cv2.imwrite(\"corners/harris_after_binary_threshold.jpg\", binary_scaled)\n"
   ]
  },
  {
   "cell_type": "markdown",
   "metadata": {},
   "source": [
    "...on plain binary threshold\n",
    "![](corners/harris_after_binary_threshold.jpg)"
   ]
  },
  {
   "cell_type": "markdown",
   "metadata": {},
   "source": [
    "### Shi-Tomasi Corners"
   ]
  },
  {
   "cell_type": "code",
   "execution_count": 4,
   "metadata": {},
   "outputs": [
    {
     "name": "stdout",
     "output_type": "stream",
     "text": [
      "** Number of corners detected: 23\n"
     ]
    },
    {
     "name": "stderr",
     "output_type": "stream",
     "text": [
      "<ipython-input-4-17ce61acad3d>:21: DeprecationWarning: an integer is required (got type numpy.float32).  Implicit conversion to integers using __int__ is deprecated, and may be removed in a future version of Python.\n",
      "  cv2.circle(copy, (corners[i,0,0], corners[i,0,1]), radius, \\\n"
     ]
    },
    {
     "data": {
      "text/plain": [
       "True"
      ]
     },
     "execution_count": 4,
     "metadata": {},
     "output_type": "execute_result"
    }
   ],
   "source": [
    "import random as rng\n",
    "\n",
    "rng.seed(12345)\n",
    "maxCorners = 23 # initial threshold\n",
    "\n",
    "# Parameters for Shi-Tomasi algorithm\n",
    "qualityLevel = 0.01\n",
    "minDistance = 10\n",
    "\n",
    "# Copy the source image\n",
    "copy = np.copy(img)\n",
    "\n",
    "# Apply corner detection\n",
    "corners = cv2.goodFeaturesToTrack(img, maxCorners, qualityLevel, minDistance, None, \\\n",
    "    blockSize=3, gradientSize=3, useHarrisDetector=False, k=0.04)\n",
    "\n",
    "# Draw corners detected\n",
    "print('** Number of corners detected:', corners.shape[0])\n",
    "radius = 4\n",
    "for i in range(corners.shape[0]):\n",
    "    cv2.circle(copy, (corners[i,0,0], corners[i,0,1]), radius, \\\n",
    "        (rng.randint(0,256), rng.randint(0,256), rng.randint(0,256)), cv2.FILLED)\n",
    "    \n",
    "cv2.imwrite(\"corners/shi_tomasi.jpg\", copy)"
   ]
  },
  {
   "cell_type": "markdown",
   "metadata": {},
   "source": [
    "... on original\n",
    "![](corners/shi_tomasi.jpg)"
   ]
  }
 ],
 "metadata": {
  "kernelspec": {
   "display_name": "Python 3",
   "language": "python",
   "name": "python3"
  },
  "language_info": {
   "codemirror_mode": {
    "name": "ipython",
    "version": 3
   },
   "file_extension": ".py",
   "mimetype": "text/x-python",
   "name": "python",
   "nbconvert_exporter": "python",
   "pygments_lexer": "ipython3",
   "version": "3.8.2"
  }
 },
 "nbformat": 4,
 "nbformat_minor": 4
}
