{
 "cells": [
  {
   "cell_type": "markdown",
   "metadata": {},
   "source": [
    "# Standard, Adaptive Thresholds and Otsu's Binarization"
   ]
  },
  {
   "cell_type": "markdown",
   "metadata": {},
   "source": [
    "Source: https://docs.opencv.org/master/d7/d4d/tutorial_py_thresholding.html\n",
    "\n",
    "Conclusion:\n",
    "Maybe the \"binary\" is best for getting the sharp corners and removing noise."
   ]
  },
  {
   "cell_type": "code",
   "execution_count": 1,
   "metadata": {},
   "outputs": [
    {
     "data": {
      "text/plain": [
       "True"
      ]
     },
     "execution_count": 1,
     "metadata": {},
     "output_type": "execute_result"
    }
   ],
   "source": [
    "import cv2\n",
    "\n",
    "img = cv2.imread(\"deskewed/1.jpg\",0)\n",
    "\n",
    "_, binary = cv2.threshold(img, 127, 255, cv2.THRESH_BINARY)\n",
    "_, binary_inv = cv2.threshold(img, 127, 255, cv2.THRESH_BINARY_INV)\n",
    "_, trunc = cv2.threshold(img, 127, 255, cv2.THRESH_TRUNC)\n",
    "_, to_zero = cv2.threshold(img, 127, 255, cv2.THRESH_TOZERO)\n",
    "_, to_zero_inv = cv2.threshold(img, 127, 255, cv2.THRESH_TOZERO_INV)\n",
    "\n",
    "cv2.imwrite(\"thresholds/binary.jpg\", binary)\n",
    "cv2.imwrite(\"thresholds/binary_inv.jpg\", binary_inv)\n",
    "cv2.imwrite(\"thresholds/trunc.jpg\", trunc)\n",
    "cv2.imwrite(\"thresholds/to_zero.jpg\", to_zero)\n",
    "cv2.imwrite(\"thresholds/to_zero_inv.jpg\", to_zero_inv)"
   ]
  },
  {
   "cell_type": "markdown",
   "metadata": {},
   "source": [
    "### Standard Thresholds"
   ]
  },
  {
   "cell_type": "markdown",
   "metadata": {},
   "source": [
    "Original\n",
    "![](deskewed/1.jpg)"
   ]
  },
  {
   "cell_type": "markdown",
   "metadata": {},
   "source": [
    "Binary\n",
    "![](thresholds/binary.jpg)"
   ]
  },
  {
   "cell_type": "markdown",
   "metadata": {},
   "source": [
    "Binary Inverted\n",
    "![](thresholds/binary_inv.jpg)"
   ]
  },
  {
   "cell_type": "markdown",
   "metadata": {},
   "source": [
    "Truncated\n",
    "![](thresholds/trunc.jpg)"
   ]
  },
  {
   "cell_type": "markdown",
   "metadata": {},
   "source": [
    "To Zero\n",
    "![](thresholds/to_zero.jpg)"
   ]
  },
  {
   "cell_type": "markdown",
   "metadata": {},
   "source": [
    "To Zero Inverted\n",
    "![](thresholds/to_zero_inv.jpg)"
   ]
  },
  {
   "cell_type": "code",
   "execution_count": 2,
   "metadata": {},
   "outputs": [
    {
     "data": {
      "text/plain": [
       "True"
      ]
     },
     "execution_count": 2,
     "metadata": {},
     "output_type": "execute_result"
    }
   ],
   "source": [
    "blurred_img = cv2.medianBlur(img, 5)\n",
    "adaptive_mean = cv2.adaptiveThreshold(blurred_img, 255, cv2.ADAPTIVE_THRESH_MEAN_C, cv2.THRESH_BINARY, 11, 2)\n",
    "adaptive_gaussian = cv2.adaptiveThreshold(blurred_img, 255, cv2.ADAPTIVE_THRESH_GAUSSIAN_C, cv2.THRESH_BINARY, 11, 2)\n",
    "cv2.imwrite(\"thresholds/adaptive_mean.jpg\", adaptive_mean)\n",
    "cv2.imwrite(\"thresholds/adaptive_gaussian.jpg\", adaptive_gaussian)"
   ]
  },
  {
   "cell_type": "markdown",
   "metadata": {},
   "source": [
    "### Adaptive Thresholds"
   ]
  },
  {
   "cell_type": "markdown",
   "metadata": {},
   "source": [
    "Original\n",
    "![](deskewed/1.jpg)"
   ]
  },
  {
   "cell_type": "markdown",
   "metadata": {},
   "source": [
    "Adaptive Mean\n",
    "![](thresholds/adaptive_mean.jpg)"
   ]
  },
  {
   "cell_type": "markdown",
   "metadata": {},
   "source": [
    "Adaptive Gaussian\n",
    "![](thresholds/adaptive_gaussian.jpg)"
   ]
  },
  {
   "cell_type": "markdown",
   "metadata": {},
   "source": [
    "### Otsu's Binarization"
   ]
  },
  {
   "cell_type": "code",
   "execution_count": 3,
   "metadata": {},
   "outputs": [
    {
     "data": {
      "text/plain": [
       "True"
      ]
     },
     "execution_count": 3,
     "metadata": {},
     "output_type": "execute_result"
    }
   ],
   "source": [
    "# Otsu's thresholding\n",
    "_, otsu = cv2.threshold(img, 0, 255, cv2.THRESH_BINARY+cv2.THRESH_OTSU)\n",
    "\n",
    "# Otsu's thresholding after Gaussian filtering\n",
    "gaussian_blur = cv2.GaussianBlur(img,(5,5),0)\n",
    "_, otsu_after_gaussian = cv2.threshold(gaussian_blur, 0, 255, cv2.THRESH_BINARY+cv2.THRESH_OTSU)\n",
    "\n",
    "cv2.imwrite(\"thresholds/otsu.jpg\", otsu)\n",
    "cv2.imwrite(\"thresholds/otsu_after_gaussian.jpg\", otsu_after_gaussian)"
   ]
  },
  {
   "cell_type": "markdown",
   "metadata": {},
   "source": [
    "Otsu\n",
    "![](thresholds/otsu.jpg)"
   ]
  },
  {
   "cell_type": "markdown",
   "metadata": {},
   "source": [
    "Ostu After Gaussian\n",
    "![](thresholds/otsu_after_gaussian.jpg)"
   ]
  },
  {
   "cell_type": "code",
   "execution_count": 4,
   "metadata": {},
   "outputs": [
    {
     "data": {
      "text/plain": [
       "True"
      ]
     },
     "execution_count": 4,
     "metadata": {},
     "output_type": "execute_result"
    }
   ],
   "source": [
    "gaussian_blur = cv2.GaussianBlur(img,(5,5),0)\n",
    "_, otsu_inverted = cv2.threshold(gaussian_blur, 0, 255, cv2.THRESH_BINARY_INV+cv2.THRESH_OTSU)\n",
    "cv2.imwrite(\"thresholds/otsu_inverted_after_gaussian.jpg\", otsu_inverted)"
   ]
  },
  {
   "cell_type": "markdown",
   "metadata": {},
   "source": [
    "Otsu Inverted After Gaussian\n",
    "![](thresholds/otsu_inverted_after_gaussian.jpg)"
   ]
  },
  {
   "cell_type": "code",
   "execution_count": 5,
   "metadata": {},
   "outputs": [
    {
     "data": {
      "text/plain": [
       "True"
      ]
     },
     "execution_count": 5,
     "metadata": {},
     "output_type": "execute_result"
    }
   ],
   "source": [
    "gaussian_blur = cv2.GaussianBlur(img,(5,5),0)\n",
    "_, binary_after_gaussian = cv2.threshold(gaussian_blur, 127, 255, cv2.THRESH_BINARY)\n",
    "cv2.imwrite(\"thresholds/binary_after_gaussian.jpg\", binary_after_gaussian)"
   ]
  },
  {
   "cell_type": "markdown",
   "metadata": {},
   "source": [
    "Binary After Gaussian\n",
    "![](thresholds/binary_after_gaussian.jpg)"
   ]
  },
  {
   "cell_type": "code",
   "execution_count": 7,
   "metadata": {},
   "outputs": [
    {
     "data": {
      "text/plain": [
       "True"
      ]
     },
     "execution_count": 7,
     "metadata": {},
     "output_type": "execute_result"
    }
   ],
   "source": [
    "gaussian_blur2 = cv2.GaussianBlur(binary,(5,5),0)\n",
    "_, to_zero2 = cv2.threshold(gaussian_blur2, 127, 255, cv2.THRESH_TOZERO)\n",
    "cv2.imwrite(\"thresholds/to_zero_after_gaussian.jpg\", to_zero2)"
   ]
  },
  {
   "cell_type": "markdown",
   "metadata": {},
   "source": [
    "To Zero After Gaussian\n",
    "![](thresholds/to_zero_after_gaussian.jpg)"
   ]
  },
  {
   "cell_type": "code",
   "execution_count": null,
   "metadata": {},
   "outputs": [],
   "source": []
  }
 ],
 "metadata": {
  "kernelspec": {
   "display_name": "Python 3",
   "language": "python",
   "name": "python3"
  },
  "language_info": {
   "codemirror_mode": {
    "name": "ipython",
    "version": 3
   },
   "file_extension": ".py",
   "mimetype": "text/x-python",
   "name": "python",
   "nbconvert_exporter": "python",
   "pygments_lexer": "ipython3",
   "version": "3.8.2"
  }
 },
 "nbformat": 4,
 "nbformat_minor": 4
}
